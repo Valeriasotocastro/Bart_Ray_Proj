{
 "cells": [
  {
   "cell_type": "code",
   "execution_count": 4,
   "metadata": {},
   "outputs": [
    {
     "name": "stdout",
     "output_type": "stream",
     "text": [
      "      id                      student_id  year  total_credits_1  \\\n",
      "0      1  05cff88fd871c9e19bce4d8df60231     0               29   \n",
      "1      2  080b659e7f6e033017ad4bda83b361     0               29   \n",
      "2      3  0dee01f418108ad66efc4a0e0ec69d     0               29   \n",
      "3      4  0fe5ab4f3df38493e8cc71afe37e45     0               29   \n",
      "4      5  105b0c6e99b923e322c5f2a8b8cb72     0               29   \n",
      "..   ...                             ...   ...              ...   \n",
      "281  282  2f4c1ec05fd0ee144b9dc736aad229     1               28   \n",
      "282  283  61b2c03d79b0f48730bd4beddedcd3     1               26   \n",
      "283  284  a00331cf6a64c2d04fd928bf0628bc     1               28   \n",
      "284  285  a97dc96828578f10ff08084d7eb19c     1               28   \n",
      "285  286  fdac9c59f0f6b4e24f5414644745be     1               28   \n",
      "\n",
      "     total_credits_2  total_courses_1  total_courses_2  course_approved_1  \\\n",
      "0                 35                5                7                  3   \n",
      "1                 31                5                6                  2   \n",
      "2                 31                5                7                  5   \n",
      "3                 31                5                6                  2   \n",
      "4                 26                5                5                  2   \n",
      "..               ...              ...              ...                ...   \n",
      "281                0                5                0                  2   \n",
      "282                0                4                0                  1   \n",
      "283                0                5                0                  0   \n",
      "284                0                5                0                  1   \n",
      "285                0                5                0                  2   \n",
      "\n",
      "     course_approved_2  course_failed_1  course_failed_2 t_gpa_1 t_gpa_2  \\\n",
      "0                    5                2                2    4,84    4,62   \n",
      "1                    3                3                3    3,06    2,95   \n",
      "2                    7                0                0    6,35    6,11   \n",
      "3                    1                3                5    3,59    2,37   \n",
      "4                    0                3                5    2,61    1,06   \n",
      "..                 ...              ...              ...     ...     ...   \n",
      "281                  0                3                0    3,43       0   \n",
      "282                  0                3                0    3,05       0   \n",
      "283                  0                5                0     1,6       0   \n",
      "284                  0                4                0    2,48       0   \n",
      "285                  0                3                0    3,12       0   \n",
      "\n",
      "    c_gpa_1 c_gpa_2  start_year  Cluster  Permanencia_term_3  \n",
      "0      4,84       5        2017        3                   1  \n",
      "1      3,06    3,68        2017        1                   1  \n",
      "2      6,35    6,23        2017        3                   1  \n",
      "3      3,59    3,25        2017        1                   1  \n",
      "4      2,61    2,99        2017        1                   0  \n",
      "..      ...     ...         ...      ...                 ...  \n",
      "281    3,43       0        2021        1                   0  \n",
      "282    3,05       0        2021        1                   0  \n",
      "283     1,6       0        2021        1                   0  \n",
      "284    2,48       0        2021        1                   0  \n",
      "285    3,12       0        2021        1                   1  \n",
      "\n",
      "[286 rows x 18 columns]\n"
     ]
    }
   ],
   "source": [
    "import pandas as pd\n",
    "import numpy as np\n",
    "import pymc3 as pm\n",
    "\n",
    "# Leer el archivo CSV con pandas y cargar datos\n",
    "\n",
    "data = pd.read_csv('Datos_Bart_C.csv', delimiter=';')\n",
    "\n",
    "print(data)\n",
    "\n",
    "# Definición de variables predictoras y respuesta\n",
    "\n",
    "x = data[['total_credits_1', 'total_credits_2', 'total_courses_1', 'course_approved_1', 't_gpa_1']].values\n",
    "y = data['Permanencia_term_3'].values\n",
    "\n",
    "def bart_model(x,y, num_trees=50, tree_depth=3, alpha=0.95):\n",
    "\n",
    "    with pm.Model() as bart_model:\n",
    "\n",
    "    # Priors para los hiperparámetros\n",
    "        sigma = pm.HalfCauchy('sigma', beta=10, testval=1.0)\n",
    "        mu = pm.Normal('mu', mu=0, sigma=10, shape=num_trees)\n",
    "        tau = pm.Gamma('tau', alpha=alpha, beta=alpha, shape=num_trees)\n",
    "        p = pm.Beta('p', alpha=alpha, beta=alpha, shape=num_trees)\n",
    "\n",
    "    # Árboles de regresión\n",
    "    trees = []\n",
    "    for i in range(num_trees):\n",
    "        tree = pm.glm.forest.BARTRegressionTree('tree_{}'.format(i), x, y, mu[i], tau[i], p[i], alpha=tree_depth)\n",
    "        trees.append(tree)\n",
    "\n",
    "    # Modelo BART\n",
    "    bart = pm.Deterministic('bart', sum(trees))\n",
    "    \n",
    "    # Verosimilitud\n",
    "    y_obs = pm.Normal('y_obs', mu=bart, sigma=sigma, observed=y)\n",
    "\n",
    "    return bart_model\n",
    "    "
   ]
  },
  {
   "cell_type": "code",
   "execution_count": 5,
   "metadata": {},
   "outputs": [
    {
     "name": "stdout",
     "output_type": "stream",
     "text": [
      "<function bart_model at 0x7fc670313eb0>\n"
     ]
    }
   ],
   "source": [
    "print(bart_model)"
   ]
  }
 ],
 "metadata": {
  "kernelspec": {
   "display_name": "Python 3",
   "language": "python",
   "name": "python3"
  },
  "language_info": {
   "codemirror_mode": {
    "name": "ipython",
    "version": 3
   },
   "file_extension": ".py",
   "mimetype": "text/x-python",
   "name": "python",
   "nbconvert_exporter": "python",
   "pygments_lexer": "ipython3",
   "version": "3.10.6"
  },
  "orig_nbformat": 4
 },
 "nbformat": 4,
 "nbformat_minor": 2
}
