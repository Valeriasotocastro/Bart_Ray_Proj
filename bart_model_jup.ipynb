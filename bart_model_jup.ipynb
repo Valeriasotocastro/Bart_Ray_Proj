{
 "cells": [
  {
   "cell_type": "code",
   "execution_count": 2,
   "metadata": {},
   "outputs": [
    {
     "ename": "ModuleNotFoundError",
     "evalue": "No module named 'pymc3'",
     "output_type": "error",
     "traceback": [
      "\u001b[1;31m---------------------------------------------------------------------------\u001b[0m",
      "\u001b[1;31mModuleNotFoundError\u001b[0m                       Traceback (most recent call last)",
      "\u001b[1;32mc:\\Users\\Usuario\\Documents\\GitHub\\Bart_Ray_Proj\\bart_model_jup.ipynb Cell 1\u001b[0m in \u001b[0;36m3\n\u001b[0;32m      <a href='vscode-notebook-cell:/c%3A/Users/Usuario/Documents/GitHub/Bart_Ray_Proj/bart_model_jup.ipynb#W0sZmlsZQ%3D%3D?line=0'>1</a>\u001b[0m \u001b[39mimport\u001b[39;00m \u001b[39mpandas\u001b[39;00m \u001b[39mas\u001b[39;00m \u001b[39mpd\u001b[39;00m\n\u001b[0;32m      <a href='vscode-notebook-cell:/c%3A/Users/Usuario/Documents/GitHub/Bart_Ray_Proj/bart_model_jup.ipynb#W0sZmlsZQ%3D%3D?line=1'>2</a>\u001b[0m \u001b[39mimport\u001b[39;00m \u001b[39mnumpy\u001b[39;00m \u001b[39mas\u001b[39;00m \u001b[39mnp\u001b[39;00m\n\u001b[1;32m----> <a href='vscode-notebook-cell:/c%3A/Users/Usuario/Documents/GitHub/Bart_Ray_Proj/bart_model_jup.ipynb#W0sZmlsZQ%3D%3D?line=2'>3</a>\u001b[0m \u001b[39mimport\u001b[39;00m \u001b[39mpymc3\u001b[39;00m \u001b[39mas\u001b[39;00m \u001b[39mpm\u001b[39;00m\n\u001b[0;32m      <a href='vscode-notebook-cell:/c%3A/Users/Usuario/Documents/GitHub/Bart_Ray_Proj/bart_model_jup.ipynb#W0sZmlsZQ%3D%3D?line=4'>5</a>\u001b[0m \u001b[39m# Leer el archivo CSV con pandas y cargar datos\u001b[39;00m\n\u001b[0;32m      <a href='vscode-notebook-cell:/c%3A/Users/Usuario/Documents/GitHub/Bart_Ray_Proj/bart_model_jup.ipynb#W0sZmlsZQ%3D%3D?line=6'>7</a>\u001b[0m data \u001b[39m=\u001b[39m pd\u001b[39m.\u001b[39mread_csv(\u001b[39m'\u001b[39m\u001b[39mDatos_Bart_C.csv\u001b[39m\u001b[39m'\u001b[39m, delimiter\u001b[39m=\u001b[39m\u001b[39m'\u001b[39m\u001b[39m;\u001b[39m\u001b[39m'\u001b[39m)\n",
      "\u001b[1;31mModuleNotFoundError\u001b[0m: No module named 'pymc3'"
     ]
    }
   ],
   "source": [
    "import pandas as pd\n",
    "import numpy as np\n",
    "import pymc3 as pm\n",
    "\n",
    "# Leer el archivo CSV con pandas y cargar datos\n",
    "\n",
    "data = pd.read_csv('Datos_Bart_C.csv', delimiter=';')\n",
    "\n",
    "print(data)\n",
    "\n",
    "# Definición de variables predictoras y respuesta\n",
    "\n",
    "x = data[['total_credits_1', 'total_credits_2', 'total_courses_1', 'course_approved_1', 't_gpa_1']].values\n",
    "y = data['Permanencia_term_3'].values\n",
    "\n",
    "def bart_model(x,y, num_trees=50, tree_depth=3, alpha=0.95):\n",
    "\n",
    "    with pm.Model() as bart_model:\n",
    "\n",
    "    # Priors para los hiperparámetros\n",
    "        sigma = pm.HalfCauchy('sigma', beta=10, testval=1.0)\n",
    "        mu = pm.Normal('mu', mu=0, sigma=10, shape=num_trees)\n",
    "        tau = pm.Gamma('tau', alpha=alpha, beta=alpha, shape=num_trees)\n",
    "        p = pm.Beta('p', alpha=alpha, beta=alpha, shape=num_trees)\n",
    "\n",
    "    # Árboles de regresión\n",
    "    trees = []\n",
    "    for i in range(num_trees):\n",
    "        tree = pm.glm.forest.BARTRegressionTree('tree_{}'.format(i), x, y, mu[i], tau[i], p[i], alpha=tree_depth)\n",
    "        trees.append(tree)\n",
    "\n",
    "    # Modelo BART\n",
    "    bart = pm.Deterministic('bart', sum(trees))\n",
    "    \n",
    "    # Verosimilitud\n",
    "    y_obs = pm.Normal('y_obs', mu=bart, sigma=sigma, observed=y)\n",
    "\n",
    "    return bart_model\n",
    "    "
   ]
  },
  {
   "cell_type": "code",
   "execution_count": 5,
   "metadata": {},
   "outputs": [
    {
     "name": "stdout",
     "output_type": "stream",
     "text": [
      "<function bart_model at 0x7fc670313eb0>\n"
     ]
    }
   ],
   "source": [
    "print(bart_model)"
   ]
  },
  {
   "cell_type": "code",
   "execution_count": 1,
   "metadata": {},
   "outputs": [
    {
     "ename": "NameError",
     "evalue": "name 'bart_model' is not defined",
     "output_type": "error",
     "traceback": [
      "\u001b[1;31m---------------------------------------------------------------------------\u001b[0m",
      "\u001b[1;31mNameError\u001b[0m                                 Traceback (most recent call last)",
      "\u001b[1;32mc:\\Users\\Usuario\\Documents\\GitHub\\Bart_Ray_Proj\\bart_model_jup.ipynb Cell 3\u001b[0m in \u001b[0;36m2\n\u001b[0;32m      <a href='vscode-notebook-cell:/c%3A/Users/Usuario/Documents/GitHub/Bart_Ray_Proj/bart_model_jup.ipynb#W2sZmlsZQ%3D%3D?line=0'>1</a>\u001b[0m \u001b[39m# Ajustar el modelo utilizando MCMC\u001b[39;00m\n\u001b[1;32m----> <a href='vscode-notebook-cell:/c%3A/Users/Usuario/Documents/GitHub/Bart_Ray_Proj/bart_model_jup.ipynb#W2sZmlsZQ%3D%3D?line=1'>2</a>\u001b[0m \u001b[39mwith\u001b[39;00m bart_model:\n\u001b[0;32m      <a href='vscode-notebook-cell:/c%3A/Users/Usuario/Documents/GitHub/Bart_Ray_Proj/bart_model_jup.ipynb#W2sZmlsZQ%3D%3D?line=2'>3</a>\u001b[0m     trace \u001b[39m=\u001b[39m pm\u001b[39m.\u001b[39msample(\u001b[39m2000\u001b[39m, tune\u001b[39m=\u001b[39m\u001b[39m1000\u001b[39m)\n\u001b[0;32m      <a href='vscode-notebook-cell:/c%3A/Users/Usuario/Documents/GitHub/Bart_Ray_Proj/bart_model_jup.ipynb#W2sZmlsZQ%3D%3D?line=4'>5</a>\u001b[0m \u001b[39m# Resumen de los resultados\u001b[39;00m\n",
      "\u001b[1;31mNameError\u001b[0m: name 'bart_model' is not defined"
     ]
    }
   ],
   "source": [
    "# Ajustar el modelo utilizando MCMC\n",
    "with bart_model:\n",
    "    trace = pm.sample(2000, tune=1000)\n",
    "\n",
    "# Resumen de los resultados\n",
    "print(pm.summary(trace))"
   ]
  }
 ],
 "metadata": {
  "kernelspec": {
   "display_name": "Python 3",
   "language": "python",
   "name": "python3"
  },
  "language_info": {
   "codemirror_mode": {
    "name": "ipython",
    "version": 3
   },
   "file_extension": ".py",
   "mimetype": "text/x-python",
   "name": "python",
   "nbconvert_exporter": "python",
   "pygments_lexer": "ipython3",
   "version": "3.10.8"
  },
  "orig_nbformat": 4
 },
 "nbformat": 4,
 "nbformat_minor": 2
}
