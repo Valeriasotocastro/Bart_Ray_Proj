{
 "cells": [
  {
   "cell_type": "code",
   "execution_count": 21,
   "metadata": {},
   "outputs": [],
   "source": [
    "import pymc3 as pm\n",
    "\n",
    "def define_bart_model(x, y, num_trees=50, tree_depth=3, alpha=0.95):\n",
    "    with pm.Model() as bart_model:\n",
    "        num_trees = 50\n",
    "        tree_depth = 3\n",
    "        alpha = 0.95\n",
    "\n",
    "    return bart_model\n",
    "    \n"
   ]
  },
  {
   "cell_type": "code",
   "execution_count": 26,
   "metadata": {},
   "outputs": [],
   "source": [
    "from ray import tune\n",
    "config = {\n",
    "    \"learning_rate\": tune.loguniform(0.001, 0.1),\n",
    "    \"batch_size\": tune.choice([16, 32, 64, 128]),\n",
    "}"
   ]
  },
  {
   "cell_type": "code",
   "execution_count": 27,
   "metadata": {},
   "outputs": [],
   "source": [
    "def train_bart(config, x, y):\n",
    "    # Obtener los valores de los hiperparámetros de la configuración de Ray Tune\n",
    "    num_trees = config[\"num_trees\"]\n",
    "    tree_depth = config[\"tree_depth\"]\n",
    "\n",
    "    # Definir el modelo BART con los hiperparámetros actuales\n",
    "    bart_model = define_bart_model(x, y, num_trees=num_trees, tree_depth=tree_depth)\n",
    "\n",
    "    # Ajustar el modelo utilizando MCMC\n",
    "    with bart_model:\n",
    "        trace = pm.sample(2000, tune=1000)\n",
    "\n",
    "    # Calcular el log-likelihood negativo como métrica para optimizar (menor es mejor)\n",
    "    log_likelihood = -trace.log_likelihood.mean()\n",
    "\n",
    "    return log_likelihood\n"
   ]
  },
  {
   "cell_type": "code",
   "execution_count": 29,
   "metadata": {},
   "outputs": [
    {
     "ename": "RuntimeError",
     "evalue": "Maybe you called ray.init twice by accident? This error can be suppressed by passing in 'ignore_reinit_error=True' or by calling 'ray.shutdown()' prior to 'ray.init()'.",
     "output_type": "error",
     "traceback": [
      "\u001b[0;31m---------------------------------------------------------------------------\u001b[0m",
      "\u001b[0;31mRuntimeError\u001b[0m                              Traceback (most recent call last)",
      "Cell \u001b[0;32mIn[29], line 11\u001b[0m\n\u001b[1;32m      7\u001b[0m     y \u001b[39m=\u001b[39m data[\u001b[39m'\u001b[39m\u001b[39mPermanencia_term_3\u001b[39m\u001b[39m'\u001b[39m]\u001b[39m.\u001b[39mvalues\n\u001b[1;32m     10\u001b[0m     \u001b[39m# Iniciar Ray \u001b[39;00m\n\u001b[0;32m---> 11\u001b[0m ray\u001b[39m.\u001b[39;49minit()\n\u001b[1;32m     13\u001b[0m     \u001b[39m# Ejecutar Ray Tune\u001b[39;00m\n\u001b[1;32m     14\u001b[0m analysis \u001b[39m=\u001b[39m tune\u001b[39m.\u001b[39mrun(\n\u001b[1;32m     15\u001b[0m         tune\u001b[39m.\u001b[39mwith_parameters(train_bart, x\u001b[39m=\u001b[39mx, y\u001b[39m=\u001b[39my),\n\u001b[1;32m     16\u001b[0m         config\u001b[39m=\u001b[39mconfig,\n\u001b[0;32m   (...)\u001b[0m\n\u001b[1;32m     20\u001b[0m         resources_per_trial\u001b[39m=\u001b[39m{\u001b[39m\"\u001b[39m\u001b[39mcpu\u001b[39m\u001b[39m\"\u001b[39m: \u001b[39m1\u001b[39m},\n\u001b[1;32m     21\u001b[0m     )\n",
      "File \u001b[0;32m~/.local/lib/python3.10/site-packages/ray/_private/client_mode_hook.py:103\u001b[0m, in \u001b[0;36mclient_mode_hook.<locals>.wrapper\u001b[0;34m(*args, **kwargs)\u001b[0m\n\u001b[1;32m    101\u001b[0m     \u001b[39mif\u001b[39;00m func\u001b[39m.\u001b[39m\u001b[39m__name__\u001b[39m \u001b[39m!=\u001b[39m \u001b[39m\"\u001b[39m\u001b[39minit\u001b[39m\u001b[39m\"\u001b[39m \u001b[39mor\u001b[39;00m is_client_mode_enabled_by_default:\n\u001b[1;32m    102\u001b[0m         \u001b[39mreturn\u001b[39;00m \u001b[39mgetattr\u001b[39m(ray, func\u001b[39m.\u001b[39m\u001b[39m__name__\u001b[39m)(\u001b[39m*\u001b[39margs, \u001b[39m*\u001b[39m\u001b[39m*\u001b[39mkwargs)\n\u001b[0;32m--> 103\u001b[0m \u001b[39mreturn\u001b[39;00m func(\u001b[39m*\u001b[39;49margs, \u001b[39m*\u001b[39;49m\u001b[39m*\u001b[39;49mkwargs)\n",
      "File \u001b[0;32m~/.local/lib/python3.10/site-packages/ray/_private/worker.py:1457\u001b[0m, in \u001b[0;36minit\u001b[0;34m(address, num_cpus, num_gpus, resources, labels, object_store_memory, local_mode, ignore_reinit_error, include_dashboard, dashboard_host, dashboard_port, job_config, configure_logging, logging_level, logging_format, log_to_driver, namespace, runtime_env, storage, **kwargs)\u001b[0m\n\u001b[1;32m   1455\u001b[0m         \u001b[39mreturn\u001b[39;00m RayContext(\u001b[39mdict\u001b[39m(_global_node\u001b[39m.\u001b[39maddress_info, node_id\u001b[39m=\u001b[39mnode_id\u001b[39m.\u001b[39mhex()))\n\u001b[1;32m   1456\u001b[0m     \u001b[39melse\u001b[39;00m:\n\u001b[0;32m-> 1457\u001b[0m         \u001b[39mraise\u001b[39;00m \u001b[39mRuntimeError\u001b[39;00m(\n\u001b[1;32m   1458\u001b[0m             \u001b[39m\"\u001b[39m\u001b[39mMaybe you called ray.init twice by accident? \u001b[39m\u001b[39m\"\u001b[39m\n\u001b[1;32m   1459\u001b[0m             \u001b[39m\"\u001b[39m\u001b[39mThis error can be suppressed by passing in \u001b[39m\u001b[39m\"\u001b[39m\n\u001b[1;32m   1460\u001b[0m             \u001b[39m\"\u001b[39m\u001b[39m'\u001b[39m\u001b[39mignore_reinit_error=True\u001b[39m\u001b[39m'\u001b[39m\u001b[39m or by calling \u001b[39m\u001b[39m\"\u001b[39m\n\u001b[1;32m   1461\u001b[0m             \u001b[39m\"\u001b[39m\u001b[39m'\u001b[39m\u001b[39mray.shutdown()\u001b[39m\u001b[39m'\u001b[39m\u001b[39m prior to \u001b[39m\u001b[39m'\u001b[39m\u001b[39mray.init()\u001b[39m\u001b[39m'\u001b[39m\u001b[39m.\u001b[39m\u001b[39m\"\u001b[39m\n\u001b[1;32m   1462\u001b[0m         )\n\u001b[1;32m   1464\u001b[0m _system_config \u001b[39m=\u001b[39m _system_config \u001b[39mor\u001b[39;00m {}\n\u001b[1;32m   1465\u001b[0m \u001b[39mif\u001b[39;00m \u001b[39mnot\u001b[39;00m \u001b[39misinstance\u001b[39m(_system_config, \u001b[39mdict\u001b[39m):\n",
      "\u001b[0;31mRuntimeError\u001b[0m: Maybe you called ray.init twice by accident? This error can be suppressed by passing in 'ignore_reinit_error=True' or by calling 'ray.shutdown()' prior to 'ray.init()'."
     ]
    }
   ],
   "source": [
    "import pandas as pd\n",
    "\n",
    "\n",
    "if __name__ == \"__main__\":\n",
    "    data = pd.read_csv('Datos_Bart_C.csv', delimiter=';')\n",
    "    x = data[['total_credits_1', 'total_credits_2', 'total_courses_1', 'course_approved_1', 't_gpa_1']].values\n",
    "    y = data['Permanencia_term_3'].values\n",
    "    \n",
    "    \n",
    "    # Iniciar Ray \n",
    "ray.init()\n",
    "    \n",
    "    # Ejecutar Ray Tune\n",
    "analysis = tune.run(\n",
    "        tune.with_parameters(train_bart, x=x, y=y),\n",
    "        config=config,\n",
    "        metric=\"log_likelihood\",\n",
    "        mode=\"min\",\n",
    "        num_samples=10,\n",
    "        resources_per_trial={\"cpu\": 1},\n",
    "    )\n",
    "\n",
    "    # Obtener los mejores hiperparámetros\n",
    "best_config = analysis.get_best_config(metric=\"log_likelihood\", mode=\"min\")\n",
    "print(\"Mejores hiperparámetros:\", best_config)\n"
   ]
  }
 ],
 "metadata": {
  "kernelspec": {
   "display_name": "Python 3",
   "language": "python",
   "name": "python3"
  },
  "language_info": {
   "codemirror_mode": {
    "name": "ipython",
    "version": 3
   },
   "file_extension": ".py",
   "mimetype": "text/x-python",
   "name": "python",
   "nbconvert_exporter": "python",
   "pygments_lexer": "ipython3",
   "version": "3.10.6"
  },
  "orig_nbformat": 4
 },
 "nbformat": 4,
 "nbformat_minor": 2
}
